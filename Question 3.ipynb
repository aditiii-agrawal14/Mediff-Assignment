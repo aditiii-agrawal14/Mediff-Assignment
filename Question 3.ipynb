{
 "cells": [
  {
   "cell_type": "markdown",
   "id": "e7e68c79",
   "metadata": {},
   "source": [
    "Write a function to parse a log file & extract details of Errors & Warnings recorded into a separate file."
   ]
  },
  {
   "cell_type": "code",
   "execution_count": 1,
   "id": "c8369727",
   "metadata": {},
   "outputs": [],
   "source": [
    "#importing the module \n",
    "import logging \n",
    "\n",
    "#now we will Create and configure logger \n",
    "logging.basicConfig(filename=\"std2.log\", format='%(levelname)s %(asctime)s %(message)s', filemode='w') \n",
    "\n",
    "#Let us Create an object \n",
    "logger=logging.getLogger() \n",
    "\n",
    "#Now we are going to Set the threshold of logger to DEBUG \n",
    "logger.setLevel(logging.DEBUG) \n",
    "\n",
    "#some messages to test\n",
    "logger.debug(\"This is just a harmless debug message\") \n",
    "logger.info(\"This is just an information for you\") \n",
    "logger.warning(\"OOPS!!!Its a Warning\") \n",
    "logger.error(\"Have you try to divide a number by zero\") \n",
    "logger.critical(\"The Internet is not working....\") \n"
   ]
  },
  {
   "cell_type": "code",
   "execution_count": 6,
   "id": "1e2c8e1b",
   "metadata": {},
   "outputs": [
    {
     "name": "stdout",
     "output_type": "stream",
     "text": [
      "ERROR 2021-07-08 23:48:08,473 Have you try to divide a number by zero\n",
      "\n"
     ]
    }
   ],
   "source": [
    "file_in = open('std2.log','r') # Read file\n",
    "for line in file_in: # Loop every line\n",
    "    if 'ERROR' in line: # Search for ERROR in line\n",
    "        print(line) # Print line"
   ]
  },
  {
   "cell_type": "code",
   "execution_count": 5,
   "id": "a71739b7",
   "metadata": {},
   "outputs": [
    {
     "name": "stdout",
     "output_type": "stream",
     "text": [
      "WARNING 2021-07-08 23:48:08,472 OOPS!!!Its a Warning\n",
      "\n"
     ]
    }
   ],
   "source": [
    "file_in = open('std2.log','r') # Read file\n",
    "for line in file_in: # Loop every line\n",
    "    if 'WARNING' in line: # Search for ERROR in line\n",
    "        print(line) # Print line"
   ]
  },
  {
   "cell_type": "code",
   "execution_count": null,
   "id": "be428b4b",
   "metadata": {},
   "outputs": [],
   "source": []
  }
 ],
 "metadata": {
  "kernelspec": {
   "display_name": "Python 3",
   "language": "python",
   "name": "python3"
  },
  "language_info": {
   "codemirror_mode": {
    "name": "ipython",
    "version": 3
   },
   "file_extension": ".py",
   "mimetype": "text/x-python",
   "name": "python",
   "nbconvert_exporter": "python",
   "pygments_lexer": "ipython3",
   "version": "3.8.10"
  }
 },
 "nbformat": 4,
 "nbformat_minor": 5
}
