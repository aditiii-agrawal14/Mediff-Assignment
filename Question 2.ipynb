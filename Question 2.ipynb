{
 "cells": [
  {
   "cell_type": "markdown",
   "id": "2f9a3027",
   "metadata": {},
   "source": [
    "Write a function that checks if a given word is a palindrome. Character case should be ignored."
   ]
  },
  {
   "cell_type": "code",
   "execution_count": 2,
   "id": "e43bda6f",
   "metadata": {},
   "outputs": [
    {
     "name": "stdout",
     "output_type": "stream",
     "text": [
      "Yes\n"
     ]
    }
   ],
   "source": [
    "def isPalindrome(word):\n",
    " \n",
    "    # Run loop from 0 to len/2 and checking the first character to the last character, the second to the last second character and so on\n",
    "    for i in range(0, int(len(word)/2)):\n",
    "        if word[i] != word[len(word)-i-1]:\n",
    "            return False\n",
    "    return True\n",
    " \n",
    "# main function\n",
    "word = \"racecar\"\n",
    "ans = isPalindrome(word)\n",
    " \n",
    "if (ans):\n",
    "    print(\"Yes\")\n",
    "else:\n",
    "    print(\"No\")"
   ]
  },
  {
   "cell_type": "code",
   "execution_count": 3,
   "id": "1770fa95",
   "metadata": {},
   "outputs": [
    {
     "name": "stdout",
     "output_type": "stream",
     "text": [
      "No\n"
     ]
    }
   ],
   "source": [
    "word = \"hello\"\n",
    "ans = isPalindrome(word)\n",
    " \n",
    "if (ans):\n",
    "    print(\"Yes\")\n",
    "else:\n",
    "    print(\"No\")"
   ]
  },
  {
   "cell_type": "code",
   "execution_count": null,
   "id": "ac3bb4c4",
   "metadata": {},
   "outputs": [],
   "source": []
  }
 ],
 "metadata": {
  "kernelspec": {
   "display_name": "Python 3",
   "language": "python",
   "name": "python3"
  },
  "language_info": {
   "codemirror_mode": {
    "name": "ipython",
    "version": 3
   },
   "file_extension": ".py",
   "mimetype": "text/x-python",
   "name": "python",
   "nbconvert_exporter": "python",
   "pygments_lexer": "ipython3",
   "version": "3.8.10"
  }
 },
 "nbformat": 4,
 "nbformat_minor": 5
}
