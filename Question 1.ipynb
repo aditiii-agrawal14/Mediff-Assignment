{
 "cells": [
  {
   "cell_type": "markdown",
   "id": "b0bca8c9",
   "metadata": {},
   "source": [
    "Implement a group_by_owners function that:\n",
    "·Accepts a dictionary containing the file owner name for each file name.\n",
    "·Returns a dictionary containing a list of file names for each owner name, in any order.\n",
    "For example, for dictionary {'Input.txt': 'Randy', 'Code.py': 'Stan', 'Output.txt': 'Randy'} the group_by_owners function should return {'Randy': ['Input.txt', 'Output.txt'], 'Stan': ['Code.py']}."
   ]
  },
  {
   "cell_type": "code",
   "execution_count": 1,
   "id": "08ebdb93",
   "metadata": {},
   "outputs": [],
   "source": [
    "def group_by_owners(files):\n",
    "    result = {}\n",
    "    for file, owner in files.items():  \n",
    "        result[owner] = result.get(owner, []) + [file]  \n",
    "    return result   "
   ]
  },
  {
   "cell_type": "code",
   "execution_count": 2,
   "id": "a0e9e80e",
   "metadata": {},
   "outputs": [
    {
     "name": "stdout",
     "output_type": "stream",
     "text": [
      "{'Randy': ['Input.txt', 'Output.txt'], 'Stan': ['Code.py']}\n"
     ]
    }
   ],
   "source": [
    "files = {\n",
    "    'Input.txt': 'Randy',\n",
    "    'Code.py': 'Stan',\n",
    "    'Output.txt': 'Randy'\n",
    "}\n",
    "\n",
    "print(group_by_owners(files))"
   ]
  },
  {
   "cell_type": "code",
   "execution_count": null,
   "id": "81fdecfc",
   "metadata": {},
   "outputs": [],
   "source": []
  }
 ],
 "metadata": {
  "kernelspec": {
   "display_name": "Python 3",
   "language": "python",
   "name": "python3"
  },
  "language_info": {
   "codemirror_mode": {
    "name": "ipython",
    "version": 3
   },
   "file_extension": ".py",
   "mimetype": "text/x-python",
   "name": "python",
   "nbconvert_exporter": "python",
   "pygments_lexer": "ipython3",
   "version": "3.8.10"
  }
 },
 "nbformat": 4,
 "nbformat_minor": 5
}
