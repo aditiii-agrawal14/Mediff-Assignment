{
 "cells": [
  {
   "cell_type": "markdown",
   "id": "a833b6ad",
   "metadata": {},
   "source": [
    "Write a function that provides a change directory (cd) function for an abstract file system.\n",
    "Notes:\n",
    "Root path is '/'.\n",
    "Path separator is '/'.\n",
    "Parent directory is addressable as '..'.\n",
    "Directory names consist only of English alphabet letters (A-Z and a-z).\n",
    "The function should support both relative and absolute paths.\n",
    "The function will not be passed any invalid paths.\n",
    "Do not use built-in path-related functions.\n",
    "For example:\n",
    "path = Path('/a/b/c/d')\n",
    "path.cd('../x')\n",
    "print(path.current_path)\n",
    "Output:\n",
    "Should display '/a/b/c/x'."
   ]
  },
  {
   "cell_type": "code",
   "execution_count": 2,
   "id": "2b53e0ca",
   "metadata": {},
   "outputs": [
    {
     "name": "stdout",
     "output_type": "stream",
     "text": [
      "/a/b/c/x\n"
     ]
    }
   ],
   "source": [
    "class Path:\n",
    "    def __init__(self, path):\n",
    "        self.current_path = path\n",
    "\n",
    "    def cd(self, new_path):\n",
    "        PREV = '..'\n",
    "        DIV = '/'\n",
    "\n",
    "        #curr_list = ['', 'a', 'b', 'c', 'd']\n",
    "        curr_list = self.current_path.split(DIV)\n",
    "        #new_list = ['..', 'x']\n",
    "        new_list = new_path.split(DIV)\n",
    "\n",
    "        for item in new_list:\n",
    "            if item == PREV:\n",
    "                #delete the last item in list\n",
    "                del curr_list[-1]\n",
    "            else:\n",
    "                curr_list.append(item)\n",
    "        #add \"/\" before each item in the list and print as string                    \n",
    "        self.current_path = \"/\".join(curr_list)\n",
    "        return self.current_path\n",
    "\n",
    "\n",
    "path = Path('/a/b/c/d')\n",
    "path.cd('../x')\n",
    "print(path.current_path)"
   ]
  },
  {
   "cell_type": "code",
   "execution_count": 3,
   "id": "7827db0d",
   "metadata": {},
   "outputs": [
    {
     "name": "stdout",
     "output_type": "stream",
     "text": [
      "/a/b/x\n"
     ]
    }
   ],
   "source": [
    "path = Path('/a/b/c/d')\n",
    "path.cd('../../x')\n",
    "print(path.current_path)"
   ]
  },
  {
   "cell_type": "code",
   "execution_count": null,
   "id": "27695c6d",
   "metadata": {},
   "outputs": [],
   "source": []
  }
 ],
 "metadata": {
  "kernelspec": {
   "display_name": "Python 3",
   "language": "python",
   "name": "python3"
  },
  "language_info": {
   "codemirror_mode": {
    "name": "ipython",
    "version": 3
   },
   "file_extension": ".py",
   "mimetype": "text/x-python",
   "name": "python",
   "nbconvert_exporter": "python",
   "pygments_lexer": "ipython3",
   "version": "3.8.10"
  }
 },
 "nbformat": 4,
 "nbformat_minor": 5
}
